{
 "cells": [
  {
   "cell_type": "markdown",
   "metadata": {},
   "source": [
    "# 🔬 [11] LST Deep Learning Inference\n",
    "\n",
    "- **Experiment No**: 11\n",
    "- **Author**: Huynh Nhan Thap (21521457@gm.uit.edu.vn)\n",
    "- **Course**: Computer Science 406: Image Processing and Applications\n",
    "- **Date**: 2024-12-12\n",
    "\n",
    "<!-- ## Description -->\n",
    "\n",
    "## Results\n",
    "\n",
    "<!-- ## Discussion -->"
   ]
  },
  {
   "cell_type": "markdown",
   "metadata": {},
   "source": [
    "## Code"
   ]
  },
  {
   "cell_type": "code",
   "execution_count": 2,
   "metadata": {},
   "outputs": [],
   "source": [
    "import json\n",
    "import os\n",
    "from typing import Literal, Union\n",
    "\n",
    "import cv2\n",
    "import matplotlib.pyplot as plt\n",
    "import numpy as np\n",
    "import polars as pl\n",
    "from tqdm import tqdm\n",
    "\n",
    "import torch\n",
    "\n",
    "import sign_language_translator as slt\n",
    "from utils import get_torch_device, flush, show_image"
   ]
  },
  {
   "cell_type": "code",
   "execution_count": 2,
   "metadata": {},
   "outputs": [
    {
     "name": "stdout",
     "output_type": "stream",
     "text": [
      "[Device]: \"cuda\"\n",
      "[Device name]: NVIDIA GeForce RTX 3050 Laptop GPU\n",
      "Garbage collector flushed 38 objects\n"
     ]
    }
   ],
   "source": [
    "device = get_torch_device(verbose=True)\n",
    "flush()"
   ]
  }
 ],
 "metadata": {
  "kernelspec": {
   "display_name": "visignlang",
   "language": "python",
   "name": "python3"
  },
  "language_info": {
   "codemirror_mode": {
    "name": "ipython",
    "version": 3
   },
   "file_extension": ".py",
   "mimetype": "text/x-python",
   "name": "python",
   "nbconvert_exporter": "python",
   "pygments_lexer": "ipython3",
   "version": "3.9.18"
  }
 },
 "nbformat": 4,
 "nbformat_minor": 2
}
